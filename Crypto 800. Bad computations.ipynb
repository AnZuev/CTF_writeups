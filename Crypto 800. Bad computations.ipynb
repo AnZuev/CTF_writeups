{
 "cells": [
  {
   "cell_type": "markdown",
   "metadata": {},
   "source": [
    "# Разбор задания Crypto 800. Bad computation"
   ]
  },
  {
   "cell_type": "markdown",
   "metadata": {},
   "source": [
    "### Task\n",
    "The creators of a certain system have taken care of the security of storing users data and encrypted users passwords. To register a new user the administrator should enter encrypted password into the database. You were able to get a users passwords database and a script, that administrator used for passwords encryption. The answer for this task is the password the encrypted version of which: hnd/goJ/e4h1foWDhYOFiIZ+f3l1e4R5iI+Gin+FhA=="
   ]
  },
  {
   "cell_type": "markdown",
   "metadata": {},
   "source": [
    "### Code\n",
    "Распишем что делает каждая функция"
   ]
  },
  {
   "cell_type": "code",
   "execution_count": 19,
   "metadata": {},
   "outputs": [],
   "source": [
    "from random import choice\n",
    "from sys import argv\n",
    "from base64 import b64encode, b64decode\n",
    "\n",
    "\n",
    "b = 22\n",
    "\n",
    "# возвращает простые числа от x до z включительно\n",
    "def dwfregrgre(x, z):\n",
    "    wdef = []\n",
    "    for a in range(x, z + 1):\n",
    "        for i in range(2, a):\n",
    "            if (a % i) == 0:\n",
    "                break\n",
    "        else:\n",
    "            wdef.append(a)\n",
    "\n",
    "    return wdef\n",
    "\n",
    "# возвращает простые числа до edefefef\n",
    "def sdsd(edefefef):\n",
    "    fvfegve = [x for x in range(2, edefefef)]\n",
    "\n",
    "    x = 2\n",
    "    rrerrrr = True\n",
    "    while rrerrrr:\n",
    "        for i in range(x * x, edefefef, x):\n",
    "            if i in fvfegve:\n",
    "                fvfegve.remove(i)\n",
    "\n",
    "        rrerrrr = False\n",
    "        for i in fvfegve:\n",
    "            if i > x:\n",
    "                x = i\n",
    "                rrerrrr = True\n",
    "                break\n",
    "\n",
    "    return fvfegve\n",
    "\n",
    "\n",
    "# расширенный алгоритм Евклида\n",
    "# возвращает g, x, y такие, что a*x + b*y = g\n",
    "def swsdwd(a, b):\n",
    "    if a == 0:\n",
    "        return (b, 0, 1)\n",
    "    else:\n",
    "        g, y, x = swsdwd(b % a, a)\n",
    "        return (g, x - (b // a) * y, y)\n",
    "\n",
    "# возвращает число d, обратное для a по модулю m\n",
    "# то есть (d*a) mod m == 1\n",
    "def swsdwdwdwa(a, m):\n",
    "    g, x, y = swsdwd(a, m)\n",
    "    if g != 1:\n",
    "        raise Exception('Oops! Error!')\n",
    "    else:\n",
    "        return x % m\n",
    "\n",
    "def L(u, n):\n",
    "    return (u - 1) // n\n"
   ]
  },
  {
   "cell_type": "markdown",
   "metadata": {},
   "source": [
    "#### Запишем нормально названия функций"
   ]
  },
  {
   "cell_type": "code",
   "execution_count": 3,
   "metadata": {
    "collapsed": true
   },
   "outputs": [],
   "source": [
    "# Возвращает список простых чисел от x до z включительно\n",
    "def get_prime_numbers_between(x, z):\n",
    "    wdef = []\n",
    "    for a in range(x, z + 1):\n",
    "        for i in range(2, a):\n",
    "            if (a % i) == 0:\n",
    "                break\n",
    "        else:\n",
    "            wdef.append(a)\n",
    "\n",
    "    return wdef\n",
    "\n",
    "\n",
    "# возвращает простые числа до n\n",
    "def get_prime_numbers_up_to(n):\n",
    "    fvfegve = [x for x in range(2, n)]\n",
    "\n",
    "    x = 2\n",
    "    rrerrrr = True\n",
    "    while rrerrrr:\n",
    "        for i in range(x * x, n, x):\n",
    "            if i in fvfegve:\n",
    "                fvfegve.remove(i)\n",
    "\n",
    "        rrerrrr = False\n",
    "        for i in fvfegve:\n",
    "            if i > x:\n",
    "                x = i\n",
    "                rrerrrr = True\n",
    "                break\n",
    "\n",
    "    return fvfegve\n",
    "\n",
    "# расширенный алгоритм Евклида\n",
    "# возвращает g, x, y такие, что a*x + b*y = g\n",
    "def egcd(a, b):\n",
    "    if a == 0:\n",
    "        return (b, 0, 1)\n",
    "    else:\n",
    "        g, y, x = egcd(b % a, a)\n",
    "        return (g, x - (b // a) * y, y)\n",
    "\n",
    "# возвращает число d, обратное для a по модулю m\n",
    "# то есть (d*a) mod m == 1\n",
    "def get_inverse_by_mod(a, b):\n",
    "    g, x, y = egcd(a, b)\n",
    "    if g != 1:\n",
    "        raise Exception('Oops! Error!')\n",
    "    else:\n",
    "        return x % b\n",
    "\n",
    "def L(u, n):\n",
    "    return (u - 1) // n"
   ]
  },
  {
   "cell_type": "markdown",
   "metadata": {},
   "source": [
    "#### Посмотрим как работает алгоритм\n",
    "Для наглядности заменим старые названия функций на новые"
   ]
  },
  {
   "cell_type": "code",
   "execution_count": 8,
   "metadata": {},
   "outputs": [],
   "source": [
    "def encrypt():\n",
    "    print(\"Key cryptor v1.0\")\n",
    "\n",
    "    if len(argv) != 2:\n",
    "        print(\"Start script like: python crypt.py <YourOwnPasswordString>\")\n",
    "\n",
    "    # Хочет, чтобы пароль был вида KLCRF{<something>}\n",
    "    if (not str(argv[1]).startswith(\"KLCTF{\")) or (not str(argv[1]).endswith(\"}\")):\n",
    "        print(\"Error! Password must starts with KLCTF\")\n",
    "        exit()\n",
    "\n",
    "    # генерим массив случайный чисел от 100 до 1000 и выбираем случайно одно из них\n",
    "    p = choice(get_prime_numbers_between(100, 1000))\n",
    "    \n",
    "    # генерим массив случайный чисел от 200 до 1000 и выбираем случайно одно из них\n",
    "    q = choice(get_prime_numbers_between(200, 1000))\n",
    "\n",
    "    print(\"Waiting for encryption...\")\n",
    "\n",
    "    n = p * q\n",
    "    g = None\n",
    "    \n",
    "    # Если присмотреться, то видно, что i изменяется от n+1 до n^2\n",
    "    # Внутри цикла хотим найти такое число, которое не делиться на p, q и на n.\n",
    "    # Это условие можно упростить и проверять только делимость на n\n",
    "    # (так как если число делится на n, то оно делится либо на p, либо на q)\n",
    "    # Первое число из отрезка n+1 до n^2, которое не делится на n это n+1,\n",
    "    # то есть g = n + 1 \n",
    "    for i in range(n + 1, n * n):\n",
    "        if ((i % p) == 0) or ((i % q) == 0) or ((i % n) == 0):\n",
    "            continue\n",
    "\n",
    "        g = i\n",
    "        break\n",
    "        \n",
    "    # проверка бесполезная, g всегда существует\n",
    "    if g is None:\n",
    "        print(\"Error! Can't find g!\")\n",
    "        exit()\n",
    "\n",
    "    # Здесь считаем функцию Эйлера для числа n\n",
    "    # φ(n) = φ(p)*φ(q) = (p-1)(q-1) (так как p и q по условию простые)\n",
    "    lamb = (p - 1) * (q - 1)\n",
    "    \n",
    "    # Этот момент отдельно разобрат внизу в пункте 1.\n",
    "    # Если кратко, то эту строку можно заменить на\n",
    "    # mu = get_inverse_by_mod(lamb, n)%n\n",
    "    mu = get_inverse_by_mod(L(pow(g, lamb, n * n), n), n) % n\n",
    "\n",
    "    # Возвращает список простых чисел до n-1\n",
    "    rc = get_prime_numbers_up_to(n - 1)\n",
    "    \n",
    "    \n",
    "    # проверка бесполезная, rc всегда имеет не нулевую длину(n всегда больше 101^2)\n",
    "    if len(rc) == 0:\n",
    "        print(\"Error! Candidates for r not found!\")\n",
    "        exit()\n",
    "\n",
    "    # убираем из rc числа p и q\n",
    "    if p in rc:\n",
    "        rc.remove(p)\n",
    "    if q in rc:\n",
    "        rc.remove(q)\n",
    "\n",
    "    # берем одно из них наугад\n",
    "    r = choice(rc)\n",
    "\n",
    "    # переводим наш исходный пароль в лист интов: ord(x) возвращает ascii код x\n",
    "    password_chars = [ord(x) for x in argv[1][6:-1]]\n",
    "    \n",
    "    \n",
    "    # Всю эту магию можно заменить на password_chars[i] = password_chars[i] + b\n",
    "    # Подробнее об этом в пункте 2 ниже\n",
    "    dcew = (pow(g, b, (n * n)) * pow(r, n, (n * n))) % (n * n)\n",
    "    for i in range(len(wdwfewgwggrgrg)):\n",
    "        password_chars[i] = (((pow(g, password_chars[i], (n * n)) * pow(r, n, (n * n))) % (n * n)) * dcew) % (n * n)\n",
    "        password_chars[i] = (L(pow(password_chars[i], lamb, (n * n)), n) * mu) % n\n",
    "\n",
    "    #преобразовываем в байты, далее печатаем\n",
    "    ecrypted = b64encode(bytearray(password_chars))\n",
    "    print(str(wdwfewgwggrgrg)[2:-1])\n"
   ]
  },
  {
   "cell_type": "markdown",
   "metadata": {},
   "source": [
    "### Здесь будет немного математики!\n",
    "#### 1. Упрощение mu = get_inverse_by_mod(L(pow(g, lamb, n * n), n), n) % n"
   ]
  },
  {
   "cell_type": "markdown",
   "metadata": {},
   "source": [
    "$g = n+1 = p*q + 1$  \n",
    "  \n",
    "$ g^{lamb}\\pmod{n^{2}}= (n+1)^{lamb}\\pmod{n^2}$   \n",
    "  \n",
    "Посчитаем $g^{2} \\pmod{n^2}:$  \n",
    "$ g^{2}\\pmod{n^{2}} = (n^{2} + 2*n + 1)\\pmod{n^{2}} = (2*n + 1) \\pmod {n^2}$  \n",
    "  \n",
    "Посчитаем $g^{3} \\pmod{n^2}:$  \n",
    "$ g^{3}\\pmod{n^{2}} = (g^{2}\\pmod{n^{2}} )* ((n+1)\\pmod{n^2}) = (2*n^2 + 3*n + 1)\\pmod{n^2} = (3*n + 1)\\pmod{n^2}$  \n",
    "  \n",
    "Посчитаем $g^4\\pmod{n^2}:$  \n",
    "$ g^{4}\\pmod{n^{2}} = (g^{3}\\pmod{n^{2}} )* ((n+1)\\pmod{n^2}) = (3*n^2 + 4*n + 1)\\pmod{n^2} = (4*n + 1)\\pmod{n^2}$  \n",
    "  \n",
    "Посчитаем $g^{lamb}\\pmod{n^2}:$  \n",
    "$ g^{lamb}\\pmod{n^{2}} = (lamb * n + 1)\\pmod{n^2}$  \n",
    "  \n",
    "    \n",
    "     \n",
    "Теперь применим к этому функцию $L$:  \n",
    "$L(lamb*n + 1, n) = ((lamb*n + 1) - 1)//n = lamb$\n",
    "  \n",
    "Таким образом, $mu = get\\_inverse\\_by\\_mod(lamb, n)\\pmod n$, то есть это просто обратное число к $lamb$ по модулю $n$"
   ]
  },
  {
   "cell_type": "markdown",
   "metadata": {},
   "source": [
    "#### 2. Упрощение цикла\n",
    "```python\n",
    "dcew = (pow(g, b, (n * n)) * pow(r, n, (n * n))) % (n * n)  \n",
    "for i in range(len(wdwfewgwggrgrg)):  \n",
    "    password_chars[i] = (((pow(g, password_chars[i], (n * n)) * pow(r, n, (n * n))) % (n * n)) * dcew) % (n * n)   \n",
    "    password_chars[i] = (L(pow(password_chars[i], lamb, (n * n)), n) * mu) % n  \n",
    "```\n",
    "\n",
    "Пусть для простоты password_chars[i] = s  \n",
    "$dcew = ((g^b \\pmod{n^2}) * (r^n \\pmod{n^2})) \\pmod{n^2}$  \n",
    "  \n",
    "В цикле мы умножаем $dcew$ на $g^s\\pmod{n^2}) * (r^n \\pmod{n^2})) \\pmod{n^2}$:  \n",
    "$s = dcew * (g^s\\pmod{n^2}) * (r^n \\pmod{n^2})) \\pmod{n^2}) \\pmod{n^2} = (g^{s+b}\\pmod{n^2}) * (r^{2n} \\pmod{n^2}) \\pmod{n^2}$  \n",
    "  \n",
    " \n",
    "Перейдем теперь ко второй строке тела цикла:  \n",
    "$s = (L(s^{lamb}\\pmod{n^2}, n)* mu) \\pmod n = (L((g^{(s+b)*lamb}\\pmod{n^2}) * (r^{2n*lamb} \\pmod{n^2}) \\pmod{n^2}), n) * mu)\\pmod n$.  \n",
    "  \n",
    "Посмотрим внимательно на $r^{2n*lamb} \\pmod{n^2}$:  \n",
    "Вспомним свойство функции Эйлера: $a^{\\phi(m)}\\pmod m = 1$, если $а$ и $m$ взаимнопростые.  \n",
    "$lamb = \\phi(n)$, то есть $r^{lamb} \\pmod n = 1$, но у нас $n^2$, а не $n$. ($r$ и $n$ взаимнопростые, так как $n = p*q$, а из $r$ мы явно убирали $p$ и $q$) \n",
    "  \n",
    "Докажем, что если $r \\pmod n = 1$, то $r^n \\pmod{n^2} = 1$:  \n",
    "Пусть $r = a*n + b$, где $a$ какое-то целое неотрицательное число, а $b = 1$ по условию.  \n",
    "Тогда, воспользовавшись приемом из пункта 1, получаем:  \n",
    "$r^n \\pmod {n^2} = (n^2*a*b^3 + b^4 ) \\pmod {n^2} = b^4 = 1^4 = 1$\n",
    "  \n",
    "Из этого следует, что $s = (L((g^{(s+b)*lamb}\\pmod{n^2}) * 1^{2}) \\pmod{n^2}), n) * mu)\\pmod n$\n",
    "  \n",
    "Теперь распишем $g^{(s+b)*lamb}\\pmod {n^2}$:  \n",
    "$g^{(s+b)*lamb} \\pmod{n^2} = (lamb * (s+b) * n + 1) \\pmod {n^2}$ (см. пункт 1)  \n",
    "  \n",
    "Тогда $s = (L(((s+b)*lamb*n + 1), n) * mu)\\pmod n = ( ( ( (s+b)*lamb*n + 1) - 1 )// n) * mu) \\pmod n = (lamb *(s+b) *mu) \\pmod n$  \n",
    "  \n",
    "Вспомним, что $mu$ является обратным числом к $lamb$ по модулю $n$, то есть $(mu * lamb) \\pmod n == 1)$,   \n",
    "то есть $s = s + b$.\n",
    "Получается, что все шифрование заключается исключительно в сдвиге на $b$"
   ]
  },
  {
   "cell_type": "markdown",
   "metadata": {},
   "source": [
    "### Заимплементим код расшифровки:"
   ]
  },
  {
   "cell_type": "code",
   "execution_count": 20,
   "metadata": {
    "collapsed": true
   },
   "outputs": [],
   "source": [
    "def decrypt(encrypted):\n",
    "    encrypted_bytes = list(b64decode(encrypted))\n",
    "    decrypted_bytes = []\n",
    "    for byte in encrypted_bytes:\n",
    "        decrypted_bytes.append(byte - 22)\n",
    "    decrypted_password = ''.join(map(chr, decrypted_bytes))\n",
    "    print(decrypted_password)"
   ]
  },
  {
   "cell_type": "code",
   "execution_count": 21,
   "metadata": {},
   "outputs": [
    {
     "name": "stdout",
     "output_type": "stream",
     "text": [
      "paillier_homomorphic_encryption\n"
     ]
    }
   ],
   "source": [
    "encrypted = \"hnd/goJ/e4h1foWDhYOFiIZ+f3l1e4R5iI+Gin+FhA==\"\n",
    "decrypt(encrypted)"
   ]
  },
  {
   "cell_type": "markdown",
   "metadata": {},
   "source": [
    "KLCTF{paillier_homomorphic_encryption}"
   ]
  }
 ],
 "metadata": {
  "kernelspec": {
   "display_name": "Python 3",
   "language": "python",
   "name": "python3"
  },
  "language_info": {
   "codemirror_mode": {
    "name": "ipython",
    "version": 3
   },
   "file_extension": ".py",
   "mimetype": "text/x-python",
   "name": "python",
   "nbconvert_exporter": "python",
   "pygments_lexer": "ipython3",
   "version": "3.5.2+"
  }
 },
 "nbformat": 4,
 "nbformat_minor": 2
}
